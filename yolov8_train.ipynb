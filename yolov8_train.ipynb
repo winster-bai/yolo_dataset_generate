{
 "cells": [
  {
   "cell_type": "markdown",
   "metadata": {},
   "source": [
    "## Enviorment Setting"
   ]
  },
  {
   "cell_type": "markdown",
   "metadata": {},
   "source": [
    "Both wandb and conda are optional to install. If you need it, please uncomment the following section:"
   ]
  },
  {
   "cell_type": "code",
   "execution_count": 1,
   "metadata": {},
   "outputs": [],
   "source": [
    "# !conda create -n yolov8 python=3.7\n",
    "# !conda activate yolov8\n",
    "# !pip install wandb #wandb is a tool for experiment tracking, logging, and visualization\n",
    "# !pip install ultralytics\n"
   ]
  },
  {
   "cell_type": "markdown",
   "metadata": {},
   "source": [
    "# Call the required library files"
   ]
  },
  {
   "cell_type": "code",
   "execution_count": 1,
   "metadata": {},
   "outputs": [],
   "source": [
    "import os\n",
    "import shutil\n",
    "import cv2\n",
    "import random\n",
    "import matplotlib.pyplot as plt\n",
    "import numpy as np\n",
    "import copy\n",
    "from ultralytics import YOLO\n"
   ]
  },
  {
   "cell_type": "markdown",
   "metadata": {},
   "source": [
    "input image size"
   ]
  },
  {
   "cell_type": "code",
   "execution_count": 2,
   "metadata": {},
   "outputs": [],
   "source": [
    "image_size=640"
   ]
  },
  {
   "cell_type": "markdown",
   "metadata": {},
   "source": [
    "\n",
    "# Creating Working Directories\n",
    "Let's move the images and labels of all the classes to the working space and rename them according to their respective classes: buffalo, elephant, rhino, or zebra."
   ]
  },
  {
   "cell_type": "code",
   "execution_count": 4,
   "metadata": {},
   "outputs": [],
   "source": [
    "# Creating paths for separate images and labels\n",
    "curr_path=os.getcwd()\n",
    "imgtrainpath = os.path.join(curr_path,'images','train')\n",
    "imgvalpath=os.path.join(curr_path,'images','validation')\n",
    "imgtestpath=os.path.join(curr_path,'images','test')\n",
    "\n",
    "labeltrainpath=os.path.join(curr_path,'labels','train')\n",
    "labelvalpath=os.path.join(curr_path,'labels','validation')\n",
    "labeltestpath=os.path.join(curr_path,'labels','test')\n",
    "\n",
    "\n",
    "# 定义一个函数来清空或创建目录\n",
    "def clear_or_create_dir(path):\n",
    "    if os.path.exists(path):\n",
    "        shutil.rmtree(path)  # 删除目录及其所有内容\n",
    "    os.makedirs(path)  # 创建新的空目录\n",
    "\n",
    "# 应用于所有路径\n",
    "clear_or_create_dir(imgtrainpath)\n",
    "clear_or_create_dir(imgvalpath)\n",
    "clear_or_create_dir(imgtestpath)\n",
    "clear_or_create_dir(labeltrainpath)\n",
    "clear_or_create_dir(labelvalpath)\n",
    "clear_or_create_dir(labeltestpath)\n",
    "\n",
    "\n",
    "# # Creating directories for all paths defined\n",
    "# os.makedirs(imgtrainpath)\n",
    "# os.makedirs(imgvalpath)\n",
    "# os.makedirs(imgtestpath)\n",
    "# os.makedirs(labeltrainpath)\n",
    "# os.makedirs(labelvalpath)\n",
    "# os.makedirs(labeltestpath)"
   ]
  },
  {
   "cell_type": "code",
   "execution_count": null,
   "metadata": {},
   "outputs": [],
   "source": [
    "# Defining data path and listing its contents\n",
    "ip_datapath='output'\n",
    "os.listdir(ip_datapath)"
   ]
  },
  {
   "cell_type": "code",
   "execution_count": 6,
   "metadata": {},
   "outputs": [],
   "source": [
    "for dirname in os.listdir(ip_datapath):\n",
    "    dirpath=os.path.join(ip_datapath, dirname)\n",
    "    for file in os.listdir(dirpath):\n",
    "        filepath=os.path.join(dirpath, file)\n",
    "        newname=dirname+'_'+file\n",
    "        if file.endswith((\".txt\")): # if label file, take it to label train path\n",
    "            shutil.copy(filepath, labeltrainpath)\n",
    "            path=os.path.join(labeltrainpath, file)\n",
    "            newpath=os.path.join(labeltrainpath, newname)\n",
    "        elif file.endswith((\".jpg\", \".JPG\")): # if image file, resize and take it to image train path\n",
    "            # img_resized=cv2.resize(cv2.imread(filepath), (image_size, image_size))\n",
    "            img_resized=cv2.imread(filepath)  #这里删除了resize\n",
    "            path=os.path.join(imgtrainpath, file)\n",
    "            cv2.imwrite(path, img_resized)\n",
    "            newpath=os.path.join(imgtrainpath, newname)\n",
    "        os.rename(path, newpath) # Rename the file (label or image)"
   ]
  },
  {
   "cell_type": "code",
   "execution_count": null,
   "metadata": {},
   "outputs": [],
   "source": [
    "# Checking the number of image and label files for all classes\n",
    "len(os.listdir(imgtrainpath)), len(os.listdir(labeltrainpath))"
   ]
  },
  {
   "cell_type": "markdown",
   "metadata": {},
   "source": [
    "# Extracting and Visualizing Test Images\n",
    "We need to create a tough test set to see how well our model performs.\n",
    "\n",
    "For the test set:\n",
    "\n",
    "Choose images that have at least two different types of animals. For example, an image with a buffalo and a zebra is good for the test set.\n",
    "Images can have more than two animals, like an image with two elephants and one buffalo.\n",
    "For the training and validation sets:\n",
    "\n",
    "Use images that have only one type of animal. For example, an image with just rhinos.\n",
    "It's okay if there are multiple rhinos in one image, as long as there are no other types of animals."
   ]
  },
  {
   "cell_type": "code",
   "execution_count": 8,
   "metadata": {},
   "outputs": [],
   "source": [
    "# # function to check if all elements in the list are actually the same\n",
    "# def are_all_elements_same(lst):\n",
    "#     if not lst:\n",
    "#         return True  # An empty list is considered to have all elements the same.\n",
    "\n",
    "#     first_element = lst[0]\n",
    "#     for element in lst[1:]:\n",
    "#         if element != first_element:\n",
    "#             return False\n",
    "\n",
    "#     return True"
   ]
  },
  {
   "cell_type": "markdown",
   "metadata": {},
   "source": [
    "Let's extract all the images with different types of animals present in the same image\n"
   ]
  },
  {
   "cell_type": "code",
   "execution_count": 9,
   "metadata": {},
   "outputs": [],
   "source": [
    "# for file in os.listdir(labeltrainpath):\n",
    "#     classes_list=[]\n",
    "#     with open(os.path.join(labeltrainpath, file), \"r\") as f:\n",
    "#         for line in f:\n",
    "#             class_id,_,_,_,_=line.strip().split(\" \")\n",
    "#             classes_list.append(class_id) # creating list of all unique animal types in given image\n",
    "            \n",
    "#     # Checking if different types of animals are present in image\n",
    "#     if not are_all_elements_same(classes_list): \n",
    "#         filepath=os.path.join(labeltrainpath, file)\n",
    "#         newpath=os.path.join(labeltestpath, file)\n",
    "#         shutil.move(filepath, newpath) # moving label file to test path\n",
    "#         basename=os.path.splitext(file)[0]\n",
    "#         print(basename) # printing the image name\n",
    "#         imgfilename=basename+'.jpg'\n",
    "#         oldimgfilepath=os.path.join(imgtrainpath, imgfilename)\n",
    "#         newimgfilepath=os.path.join(imgtestpath, imgfilename) \n",
    "#         shutil.move(oldimgfilepath, newimgfilepath) # moving image to test path"
   ]
  },
  {
   "cell_type": "markdown",
   "metadata": {},
   "source": [
    "The above printed images are all those which have more than one type of animal in it, although the name suggests that there is just one animal. Let's check few of these images"
   ]
  },
  {
   "cell_type": "code",
   "execution_count": 10,
   "metadata": {},
   "outputs": [],
   "source": [
    "# import os\n",
    "# import shutil\n",
    "\n",
    "# source_path = '/home/dfrobot/yolo/yolov8_train/images/test'\n",
    "# destination_path = '/home/dfrobot/yolo/yolov8_sdimg2img_train/images/test'\n",
    "\n",
    "# # 检查目标路径是否存在\n",
    "# if not os.path.exists(destination_path):\n",
    "#     # 如果不存在，则直接拷贝整个目录树\n",
    "#     shutil.copytree(source_path, destination_path)\n",
    "# else:\n",
    "#     # 如果目标路径已存在，遍历源目录中的文件和目录\n",
    "#     for item in os.listdir(source_path):\n",
    "#         source_item = os.path.join(source_path, item)\n",
    "#         destination_item = os.path.join(destination_path, item)\n",
    "        \n",
    "#         # 如果是文件且目标路径中不存在，则拷贝文件\n",
    "#         if os.path.isfile(source_item) and not os.path.exists(destination_item):\n",
    "#             shutil.copy2(source_item, destination_item)\n",
    "#         # 如果是目录且目标路径中不存在，则递归拷贝整个目录树\n",
    "#         elif os.path.isdir(source_item) and not os.path.exists(destination_item):\n",
    "#             shutil.copytree(source_item, destination_item)\n",
    "\n",
    "\n",
    "# source_path_lab = '/home/dfrobot/yolo/yolov8_train/labels/test'\n",
    "# destination_path_lab = '/home/dfrobot/yolo/yolov8_sdimg2img_train/labels/test'\n",
    "\n",
    "# # 检查目标路径是否存在\n",
    "# if not os.path.exists(destination_path_lab):\n",
    "#     # 如果不存在，则直接拷贝整个目录树\n",
    "#     shutil.copytree(source_path_lab, destination_path_lab)\n",
    "# else:\n",
    "#     # 如果目标路径已存在，遍历源目录中的文件和目录\n",
    "#     for item in os.listdir(source_path_lab):\n",
    "#         source_item = os.path.join(source_path_lab, item)\n",
    "#         destination_item = os.path.join(destination_path_lab, item)\n",
    "        \n",
    "#         # 如果是文件且目标路径中不存在，则拷贝文件\n",
    "#         if os.path.isfile(source_item) and not os.path.exists(destination_item):\n",
    "#             shutil.copy2(source_item, destination_item)\n",
    "#         # 如果是目录且目标路径中不存在，则递归拷贝整个目录树\n",
    "#         elif os.path.isdir(source_item) and not os.path.exists(destination_item):\n",
    "#             shutil.copytree(source_item, destination_item)"
   ]
  },
  {
   "cell_type": "code",
   "execution_count": 11,
   "metadata": {},
   "outputs": [],
   "source": [
    "# plt.figure(figsize=(30,30))\n",
    "# for i in range(6):\n",
    "#     test_image=os.path.join(imgtestpath, os.listdir(imgtestpath)[i])\n",
    "#     ax=plt.subplot(3,2,i+1)\n",
    "    \n",
    "#     # Display actual image\n",
    "#     plt.imshow(cv2.imread(test_image)) \n",
    "#     plt.xticks([])\n",
    "#     plt.yticks([])"
   ]
  },
  {
   "cell_type": "code",
   "execution_count": 12,
   "metadata": {},
   "outputs": [],
   "source": [
    "# # Checking the size of test dataset\n",
    "# len(os.listdir(imgtestpath)), len(os.listdir(labeltestpath))\n"
   ]
  },
  {
   "cell_type": "code",
   "execution_count": 13,
   "metadata": {},
   "outputs": [],
   "source": [
    "# # Checking the size of training(+validation) dataset\n",
    "# len(os.listdir(imgtrainpath)), len(os.listdir(labeltrainpath))"
   ]
  },
  {
   "cell_type": "markdown",
   "metadata": {},
   "source": [
    "## Separating Training and Validation Dataset\n",
    "\n",
    "Let's now partition the training dataset into separate training and validation datasets."
   ]
  },
  {
   "cell_type": "code",
   "execution_count": 14,
   "metadata": {},
   "outputs": [],
   "source": [
    "# moving 20% of data to validation\n",
    "\n",
    "factor=0.2 \n",
    "\n",
    "for file in random.sample(os.listdir(imgtrainpath), int(len(os.listdir(imgtrainpath))*factor)):\n",
    "    basename=os.path.splitext(file)[0]\n",
    "    textfilename=basename+'.txt'\n",
    "    labelfilepath=os.path.join(labeltrainpath, textfilename)\n",
    "    labeldestpath=os.path.join(labelvalpath, textfilename)\n",
    "    imgfilepath=os.path.join(imgtrainpath, file)\n",
    "    imgdestpath=os.path.join(imgvalpath, file)\n",
    "    shutil.move(imgfilepath, imgdestpath)\n",
    "    shutil.move(labelfilepath, labeldestpath)"
   ]
  },
  {
   "cell_type": "code",
   "execution_count": null,
   "metadata": {},
   "outputs": [],
   "source": [
    "# Checking the size of training dataset\n",
    "len(os.listdir(imgtrainpath)), len(os.listdir(labeltrainpath))"
   ]
  },
  {
   "cell_type": "code",
   "execution_count": null,
   "metadata": {},
   "outputs": [],
   "source": [
    "# Checking the size of validation dataset\n",
    "len(os.listdir(imgvalpath)), len(os.listdir(labelvalpath))"
   ]
  },
  {
   "cell_type": "markdown",
   "metadata": {},
   "source": [
    "Now, we need to write a function to extract the bounding box coordinates from the label files. These label files provide details such as the image type, the coordinates of the image center, and the dimensions of the image."
   ]
  },
  {
   "cell_type": "code",
   "execution_count": 17,
   "metadata": {},
   "outputs": [],
   "source": [
    "# # function to obtain bounding box coordinates from text label files\n",
    "# def get_bbox_from_label(text_file_path):\n",
    "#     bbox_list=[]\n",
    "#     with open(text_file_path, \"r\") as file:\n",
    "#         for line in file:\n",
    "#             class_id,x_centre,y_centre,width,height=line.strip().split(\" \")\n",
    "#             x1=(float(x_centre)+(float(width)/2))*image_size\n",
    "#             x0=(float(x_centre)-(float(width)/2))*image_size\n",
    "#             y1=(float(y_centre)+(float(height)/2))*image_size\n",
    "#             y0=(float(y_centre)-(float(height)/2))*image_size\n",
    "            \n",
    "#             vertices=np.array([[int(x0), int(y0)], [int(x1), int(y0)], \n",
    "#                                [int(x1),int(y1)], [int(x0),int(y1)]])\n",
    "#             bbox_list.append(vertices)      \n",
    "#     return tuple(bbox_list)"
   ]
  },
  {
   "cell_type": "code",
   "execution_count": 18,
   "metadata": {},
   "outputs": [],
   "source": [
    "# # defining red color in RGB to draw bounding box\n",
    "# red=(255,0,0) "
   ]
  },
  {
   "cell_type": "code",
   "execution_count": 19,
   "metadata": {},
   "outputs": [],
   "source": [
    "# # Drawing bounding box for random images in training data\n",
    "# plt.figure(figsize=(30,30))\n",
    "# for i in range(1,8,2):\n",
    "#     k=random.randint(0, len(os.listdir(imgtrainpath))-1)\n",
    "#     img_path=os.path.join(imgtrainpath, sorted(os.listdir(imgtrainpath))[k])\n",
    "#     label_path=os.path.join(labeltrainpath, sorted(os.listdir(labeltrainpath))[k])\n",
    "#     bbox=get_bbox_from_label(label_path) # extracting bounding box coordinates\n",
    "#     image=cv2.imread(img_path)\n",
    "#     image_copy=copy.deepcopy(image)\n",
    "#     ax=plt.subplot(4, 2, i)\n",
    "#     plt.imshow(image) # displaying image\n",
    "#     plt.xticks([])\n",
    "#     plt.yticks([])\n",
    "#     cv2.drawContours(image_copy, bbox, -1, red, 2) # drawing bounding box on copy of image\n",
    "#     ax=plt.subplot(4, 2, i+1)\n",
    "#     plt.imshow(image_copy) # displaying image with bounding box\n",
    "#     plt.xticks([])\n",
    "#     plt.yticks([])"
   ]
  },
  {
   "cell_type": "markdown",
   "metadata": {},
   "source": [
    "## Creating config file"
   ]
  },
  {
   "cell_type": "code",
   "execution_count": 20,
   "metadata": {},
   "outputs": [],
   "source": [
    "# defining newline variable for config file\n",
    "newline='\\n'"
   ]
  },
  {
   "cell_type": "code",
   "execution_count": 21,
   "metadata": {},
   "outputs": [],
   "source": [
    "# Starting with a comment in config file\n",
    "ln_1='# Train/val/test sets'+newline\n",
    "\n",
    "# train, val and test path declaration\n",
    "ln_2='train: ' +\"'\"+imgtrainpath+\"'\"+newline\n",
    "ln_3='val: ' +\"'\" + imgvalpath+\"'\"+newline\n",
    "ln_4='test: ' +\"'\" + imgtestpath+\"'\"+newline\n",
    "ln_5=newline\n",
    "ln_6='# Classes'+newline\n",
    "\n",
    "# names of the classes declaration\n",
    "ln_7='names:'+newline\n",
    "ln_8 = '  0: base'+newline\n",
    "ln_9 = '  1: block_green'+newline\n",
    "ln_10 = '  2: block_purple'+newline\n",
    "ln_11 = '  3: block_red'+newline\n",
    "ln_12 = '  4: block_yellow'+newline\n",
    "ln_13 = '  5: hand_0'+newline\n",
    "ln_14 = '  6: hand_1'+newline\n",
    "ln_15 = '  7: hand_2'+newline\n",
    "ln_16 = '  8: hand_3'+newline\n",
    "ln_17 = '  9: hand_4'+newline\n",
    "ln_18 = '  10: hand_5'+newline\n",
    "ln_19 = '  11: people_man'+newline\n",
    "ln_20 = '  12: people_police'+newline\n",
    "ln_21 = '  13: people_woman'+newline\n",
    "ln_22 = '  14: sign_i10'+newline\n",
    "ln_23 = '  15: sign_i12'+newline\n",
    "ln_24 = '  16: sign_i3'+newline\n",
    "ln_25 = '  17: sign_i9'+newline\n",
    "ln_26 = '  18: sign_pl40'+newline\n",
    "ln_27 = '  19: sign_pr40'+newline\n",
    "ln_28 = '  20: sign_ps'+newline\n",
    "ln_29 = '  21: sign_w48'+newline\n",
    "ln_30 = '  22: sign_w65'+newline\n",
    "ln_31 = '  23: traffic_green'+newline\n",
    "ln_32 = '  24: traffic_none'+newline\n",
    "ln_33 = '  25: traffic_red'+newline\n",
    "\n",
    "\n",
    "\n",
    "# ln_12='lr: 0.001'  # 调整学习率\n",
    "\n",
    "\n",
    "# config_lines=[ln_1, ln_2, ln_3, ln_4, ln_5, ln_6, ln_7, ln_8, ln_9, ln_10, ln_11, ln_12, ln_13, ln_14, ln_15, ln_16]\n",
    "config_lines=[ln_1, ln_2, ln_3, ln_4, ln_5, ln_6, ln_7, ln_8, ln_9, ln_10, ln_11, ln_12, ln_13, ln_14, ln_15, ln_16, ln_17, ln_18, ln_19, ln_20, ln_21, ln_22, ln_23, ln_24, ln_25, ln_26, ln_27, ln_28, ln_29, ln_30, ln_31, ln_32, ln_33]"
   ]
  },
  {
   "cell_type": "code",
   "execution_count": null,
   "metadata": {},
   "outputs": [],
   "source": [
    "# Creating path for config file\n",
    "config_path=os.path.join(curr_path, 'config.yaml')\n",
    "config_path"
   ]
  },
  {
   "cell_type": "code",
   "execution_count": 23,
   "metadata": {},
   "outputs": [],
   "source": [
    "# Writing config file\n",
    "with open(config_path, 'w') as f:\n",
    "    f.writelines(config_lines)"
   ]
  },
  {
   "cell_type": "markdown",
   "metadata": {},
   "source": [
    "## Model training"
   ]
  },
  {
   "cell_type": "code",
   "execution_count": null,
   "metadata": {},
   "outputs": [],
   "source": [
    "# Using YOLO's pretrained model architecture and weights for training\n",
    "model=YOLO('yolov8n.yaml').load('yolov8n.pt')"
   ]
  },
  {
   "cell_type": "code",
   "execution_count": null,
   "metadata": {},
   "outputs": [],
   "source": [
    "# Training the model\n",
    "# results=model.train(data=config_path, epochs=40, iou=0.5, conf=0.01, imgsz=640)\n",
    "results=model.train(data=config_path, epochs=100, iou=0.5, conf=0.01, imgsz=640, save_period=1)\n",
    "\n"
   ]
  }
 ],
 "metadata": {
  "kernelspec": {
   "display_name": "Python 3 (ipykernel)",
   "language": "python",
   "name": "python3"
  },
  "language_info": {
   "codemirror_mode": {
    "name": "ipython",
    "version": 3
   },
   "file_extension": ".py",
   "mimetype": "text/x-python",
   "name": "python",
   "nbconvert_exporter": "python",
   "pygments_lexer": "ipython3",
   "version": "3.9.19"
  }
 },
 "nbformat": 4,
 "nbformat_minor": 2
}
